{
 "cells": [
  {
   "cell_type": "code",
   "execution_count": 6,
   "id": "090cf5a3-0a03-4bbe-8890-147809863c5f",
   "metadata": {},
   "outputs": [],
   "source": [
    "%matplotlib inline\n",
    "import random\n",
    "import torch\n",
    "from d2l import torch as d2l"
   ]
  },
  {
   "cell_type": "markdown",
   "id": "25a2ec20-2202-4e14-b903-a7dd96117281",
   "metadata": {},
   "source": [
    "构造带噪声的线性模型"
   ]
  },
  {
   "cell_type": "code",
   "execution_count": 14,
   "id": "6f95c7bd-75b3-42b1-a1a1-c7b719e2d6f9",
   "metadata": {},
   "outputs": [],
   "source": [
    "def synthetic_data(w, b, num_examples):\n",
    "    X = torch.normal(0, 1, (num_examples, len(w)))\n",
    "    y = torch.matmul(X, w) + b\n",
    "    y += torch.normal(0, 0.01, y.shape)\n",
    "    return X, y.reshape((-1, 1))\n",
    "\n",
    "true_w = torch.tensor([2, -3.4])\n",
    "true_b = 4.2\n",
    "features, labels = synthetic_data(true_w, true_b, 1000)"
   ]
  },
  {
   "cell_type": "code",
   "execution_count": 16,
   "id": "483463f2-4e85-4df8-af8b-c0afbd1d7c76",
   "metadata": {},
   "outputs": [
    {
     "name": "stdout",
     "output_type": "stream",
     "text": [
      "features: tensor([ 2.2725, -0.1818]) \n",
      "label: tensor([9.3433])\n"
     ]
    }
   ],
   "source": [
    "print('features:', features[0], '\\nlabel:', labels[0])"
   ]
  },
  {
   "cell_type": "code",
   "execution_count": 23,
   "id": "329c90db-4404-445c-bd76-c2a48a09e300",
   "metadata": {},
   "outputs": [
    {
     "name": "stdout",
     "output_type": "stream",
     "text": [
      "Unexpected exception formatting exception. Falling back to standard exception\n"
     ]
    },
    {
     "name": "stderr",
     "output_type": "stream",
     "text": [
      "Traceback (most recent call last):\n",
      "  File \"/Users/cifangyiquan/anaconda3/lib/python3.10/site-packages/IPython/core/formatters.py\", line 221, in catch_format_error\n",
      "    r = method(self, *args, **kwargs)\n",
      "  File \"/Users/cifangyiquan/anaconda3/lib/python3.10/site-packages/IPython/core/formatters.py\", line 338, in __call__\n",
      "    return printer(obj)\n",
      "  File \"/Users/cifangyiquan/anaconda3/lib/python3.10/site-packages/IPython/core/pylabtools.py\", line 152, in print_figure\n",
      "    fig.canvas.print_figure(bytes_io, **kw)\n",
      "  File \"/Users/cifangyiquan/anaconda3/lib/python3.10/site-packages/matplotlib/backend_bases.py\", line 2332, in print_figure\n",
      "  File \"/Users/cifangyiquan/anaconda3/lib/python3.10/site-packages/matplotlib/backend_bases.py\", line 1594, in _get_renderer\n",
      "    'axes_enter_event',\n",
      "  File \"/Users/cifangyiquan/anaconda3/lib/python3.10/site-packages/matplotlib/backend_bases.py\", line 2228, in <lambda>\n",
      "  File \"/Users/cifangyiquan/anaconda3/lib/python3.10/site-packages/matplotlib/backends/backend_svg.py\", line 1218, in print_svg\n",
      "    result = self._print_svg(filename, fh, **kwargs)\n",
      "  File \"/Users/cifangyiquan/anaconda3/lib/python3.10/site-packages/matplotlib/backends/backend_svg.py\", line 1240, in _print_svg\n",
      "    RendererSVG(w, h, fh, filename, dpi),\n",
      "  File \"/Users/cifangyiquan/anaconda3/lib/python3.10/site-packages/matplotlib/backends/backend_svg.py\", line 267, in __init__\n",
      "    self.mathtext_parser = MathTextParser('SVG')\n",
      "  File \"/Users/cifangyiquan/anaconda3/lib/python3.10/site-packages/matplotlib/mathtext.py\", line 206, in __init__\n",
      "  File \"/Users/cifangyiquan/anaconda3/lib/python3.10/site-packages/matplotlib/_api/__init__.py\", line 192, in check_getitem\n",
      "ValueError: 'svg' is not a valid value for output; supported values are 'path', 'agg', 'macosx'\n",
      "\n",
      "During handling of the above exception, another exception occurred:\n",
      "\n",
      "Traceback (most recent call last):\n",
      "  File \"/Users/cifangyiquan/anaconda3/lib/python3.10/site-packages/IPython/core/interactiveshell.py\", line 2057, in showtraceback\n",
      "    stb = self.InteractiveTB.structured_traceback(\n",
      "  File \"/Users/cifangyiquan/anaconda3/lib/python3.10/site-packages/IPython/core/ultratb.py\", line 1118, in structured_traceback\n",
      "    return FormattedTB.structured_traceback(\n",
      "  File \"/Users/cifangyiquan/anaconda3/lib/python3.10/site-packages/IPython/core/ultratb.py\", line 1012, in structured_traceback\n",
      "    return VerboseTB.structured_traceback(\n",
      "  File \"/Users/cifangyiquan/anaconda3/lib/python3.10/site-packages/IPython/core/ultratb.py\", line 865, in structured_traceback\n",
      "    formatted_exception = self.format_exception_as_a_whole(etype, evalue, etb, number_of_lines_of_context,\n",
      "  File \"/Users/cifangyiquan/anaconda3/lib/python3.10/site-packages/IPython/core/ultratb.py\", line 818, in format_exception_as_a_whole\n",
      "    frames.append(self.format_record(r))\n",
      "  File \"/Users/cifangyiquan/anaconda3/lib/python3.10/site-packages/IPython/core/ultratb.py\", line 736, in format_record\n",
      "    result += ''.join(_format_traceback_lines(frame_info.lines, Colors, self.has_colors, lvals))\n",
      "  File \"/Users/cifangyiquan/anaconda3/lib/python3.10/site-packages/stack_data/utils.py\", line 145, in cached_property_wrapper\n",
      "    value = obj.__dict__[self.func.__name__] = self.func(obj)\n",
      "  File \"/Users/cifangyiquan/anaconda3/lib/python3.10/site-packages/stack_data/core.py\", line 698, in lines\n",
      "    pieces = self.included_pieces\n",
      "  File \"/Users/cifangyiquan/anaconda3/lib/python3.10/site-packages/stack_data/utils.py\", line 145, in cached_property_wrapper\n",
      "    value = obj.__dict__[self.func.__name__] = self.func(obj)\n",
      "  File \"/Users/cifangyiquan/anaconda3/lib/python3.10/site-packages/stack_data/core.py\", line 649, in included_pieces\n",
      "    pos = scope_pieces.index(self.executing_piece)\n",
      "  File \"/Users/cifangyiquan/anaconda3/lib/python3.10/site-packages/stack_data/utils.py\", line 145, in cached_property_wrapper\n",
      "    value = obj.__dict__[self.func.__name__] = self.func(obj)\n",
      "  File \"/Users/cifangyiquan/anaconda3/lib/python3.10/site-packages/stack_data/core.py\", line 628, in executing_piece\n",
      "    return only(\n",
      "  File \"/Users/cifangyiquan/anaconda3/lib/python3.10/site-packages/executing/executing.py\", line 164, in only\n",
      "    raise NotOneValueFound('Expected one value, found 0')\n",
      "executing.executing.NotOneValueFound: Expected one value, found 0\n"
     ]
    },
    {
     "data": {
      "text/plain": [
       "<Figure size 350x250 with 1 Axes>"
      ]
     },
     "metadata": {},
     "output_type": "display_data"
    }
   ],
   "source": [
    "d2l.set_figsize()\n",
    "d2l.plt.scatter(features[:, (1)].detach().numpy(), \n",
    "                labels.detach().numpy(), 1);"
   ]
  },
  {
   "cell_type": "code",
   "execution_count": null,
   "id": "d804d589-2a57-4a68-bb7b-2b487fb136a3",
   "metadata": {},
   "outputs": [],
   "source": []
  },
  {
   "cell_type": "code",
   "execution_count": null,
   "id": "54f76aed-77c4-4f27-a3ef-ea44e0694e57",
   "metadata": {},
   "outputs": [],
   "source": []
  }
 ],
 "metadata": {
  "kernelspec": {
   "display_name": "Python 3 (ipykernel)",
   "language": "python",
   "name": "python3"
  },
  "language_info": {
   "codemirror_mode": {
    "name": "ipython",
    "version": 3
   },
   "file_extension": ".py",
   "mimetype": "text/x-python",
   "name": "python",
   "nbconvert_exporter": "python",
   "pygments_lexer": "ipython3",
   "version": "3.10.9"
  }
 },
 "nbformat": 4,
 "nbformat_minor": 5
}
